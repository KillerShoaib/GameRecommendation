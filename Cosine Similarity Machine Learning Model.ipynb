{
 "cells": [
  {
   "cell_type": "markdown",
   "metadata": {},
   "source": [
    "# Importing All the necessary Library"
   ]
  },
  {
   "cell_type": "code",
   "execution_count": null,
   "metadata": {},
   "outputs": [],
   "source": [
    "import sklearn\n",
    "import pandas as pd\n",
    "import nltk\n",
    "from ast import literal_eval\n",
    "import re\n",
    "import numpy as np\n",
    "import pickle,gzip,pickletools"
   ]
  },
  {
   "cell_type": "markdown",
   "metadata": {},
   "source": [
    "# Reading the CSV File and checking the info"
   ]
  },
  {
   "cell_type": "code",
   "execution_count": null,
   "metadata": {},
   "outputs": [],
   "source": [
    "df = pd.read_csv(\"Final_game_dataset.csv\")\n",
    "df.head()"
   ]
  },
  {
   "cell_type": "code",
   "execution_count": null,
   "metadata": {},
   "outputs": [],
   "source": [
    "df.columns"
   ]
  },
  {
   "cell_type": "code",
   "execution_count": null,
   "metadata": {},
   "outputs": [],
   "source": [
    "df.info()"
   ]
  },
  {
   "cell_type": "markdown",
   "metadata": {},
   "source": [
    "# Dropping the unnecesary columns"
   ]
  },
  {
   "cell_type": "code",
   "execution_count": null,
   "metadata": {},
   "outputs": [],
   "source": [
    "df = df.drop(columns = [\"Metacritic\",\"Rating_Top\",\"Ratings\",\"Parent_Platforms\",\"ESRB_Rating\"])"
   ]
  },
  {
   "cell_type": "code",
   "execution_count": null,
   "metadata": {},
   "outputs": [],
   "source": [
    "df.head()"
   ]
  },
  {
   "cell_type": "markdown",
   "metadata": {},
   "source": [
    "# Converting the stringfiled obj to desirable obj"
   ]
  },
  {
   "cell_type": "code",
   "execution_count": null,
   "metadata": {},
   "outputs": [],
   "source": [
    "features = [\"Platforms\",\"Developers\",\"Publishers\",\"Genres\",\"Tags\"]\n",
    "\n",
    "for feature in features:\n",
    "    df[feature] = df[feature].apply(literal_eval)"
   ]
  },
  {
   "cell_type": "code",
   "execution_count": null,
   "metadata": {},
   "outputs": [],
   "source": [
    "df[\"Platforms\"][1]"
   ]
  },
  {
   "cell_type": "markdown",
   "metadata": {},
   "source": [
    "# Filling the missing values"
   ]
  },
  {
   "cell_type": "code",
   "execution_count": null,
   "metadata": {},
   "outputs": [],
   "source": [
    "columns = ['Released',\"Clean_description\"]\n",
    "\n",
    "for column in columns:\n",
    "    df[column] = df[column].fillna(\"\")"
   ]
  },
  {
   "cell_type": "code",
   "execution_count": null,
   "metadata": {},
   "outputs": [],
   "source": [
    "df.info()"
   ]
  },
  {
   "cell_type": "markdown",
   "metadata": {},
   "source": [
    "# Creating everything in list of strings"
   ]
  },
  {
   "cell_type": "code",
   "execution_count": null,
   "metadata": {},
   "outputs": [],
   "source": [
    "columns = [\"Developers\",\"Publishers\",\"Genres\",\"Tags\"]\n",
    "\n",
    "def get_list(obj):\n",
    "    \n",
    "    if isinstance(obj,list):\n",
    "        \n",
    "        names = [i[\"name\"] for i in obj]\n",
    "        return names\n",
    "    return []  # return empty list for malfromed data\n",
    "\n",
    "\n",
    "# now apply the function\n",
    "\n",
    "for column in columns:\n",
    "    df[column] = df[column].apply(get_list)"
   ]
  },
  {
   "cell_type": "code",
   "execution_count": null,
   "metadata": {},
   "outputs": [],
   "source": [
    "# for platfroms it is different than others\n",
    "\n",
    "def get_plat_list(obj):\n",
    "    \n",
    "    if isinstance(obj,list):\n",
    "        \n",
    "        platform = [i[\"platform\"] for i in obj]\n",
    "        \n",
    "        names = [i[\"name\"] for i in platform]\n",
    "        \n",
    "        return names\n",
    "    return []\n",
    "\n",
    "df['Platforms'] = df['Platforms'].apply(get_plat_list)"
   ]
  },
  {
   "cell_type": "code",
   "execution_count": null,
   "metadata": {},
   "outputs": [],
   "source": [
    "df.head()"
   ]
  },
  {
   "cell_type": "markdown",
   "metadata": {},
   "source": [
    "# Creating Index with names"
   ]
  },
  {
   "cell_type": "code",
   "execution_count": null,
   "metadata": {},
   "outputs": [],
   "source": [
    "indices = pd.Series(df.index,index =  df[\"Name\"]).drop_duplicates()\n",
    "indices"
   ]
  },
  {
   "cell_type": "markdown",
   "metadata": {},
   "source": [
    "# Creating a function to call the model and get result"
   ]
  },
  {
   "cell_type": "code",
   "execution_count": null,
   "metadata": {},
   "outputs": [],
   "source": [
    "def game_name(name,cos_sim):\n",
    "    idx = indices[name]\n",
    "    similar_score = cos_sim[idx]\n",
    "    similar_game = list(enumerate(similar_score))\n",
    "    sort_game = sorted(similar_game,key= lambda x:x[1], reverse=True)\n",
    "    sort_game_10 = sort_game[1:11]\n",
    "    game_indices = [i[0] for i in sort_game_10]\n",
    "    return df[\"Name\"].iloc[game_indices]"
   ]
  },
  {
   "cell_type": "markdown",
   "metadata": {},
   "source": [
    "# Creating The Model"
   ]
  },
  {
   "cell_type": "markdown",
   "metadata": {},
   "source": [
    "### cleaning the description"
   ]
  },
  {
   "cell_type": "code",
   "execution_count": null,
   "metadata": {},
   "outputs": [],
   "source": [
    "def clean(string):\n",
    "    string = str(string)\n",
    "    clean_str = re.sub(r'[^\\w\\s]', '', string) # get rid of punctuation\n",
    "    return clean_str\n",
    "\n",
    "\n",
    "df[\"Clean_description\"] = df[\"Clean_description\"].apply(clean)"
   ]
  },
  {
   "cell_type": "markdown",
   "metadata": {},
   "source": [
    "## Creating the soup (adding all the column string value together)"
   ]
  },
  {
   "cell_type": "code",
   "execution_count": null,
   "metadata": {},
   "outputs": [],
   "source": [
    "df_copy = df.copy()  # deep copy"
   ]
  },
  {
   "cell_type": "code",
   "execution_count": null,
   "metadata": {},
   "outputs": [],
   "source": [
    "def convert_to_string(obj):\n",
    "    string = str(obj)\n",
    "    string = string.replace(\"-\",\" \")\n",
    "    return string\n",
    "\n",
    "\n",
    "df_copy[\"Released\"] = df_copy[\"Released\"].apply(convert_to_string)"
   ]
  },
  {
   "cell_type": "code",
   "execution_count": null,
   "metadata": {},
   "outputs": [],
   "source": [
    "df_copy[\"Released\"]"
   ]
  },
  {
   "cell_type": "markdown",
   "metadata": {},
   "source": [
    "### Preparing the data for soup"
   ]
  },
  {
   "cell_type": "code",
   "execution_count": null,
   "metadata": {},
   "outputs": [],
   "source": [
    "# clean the data (remove space and lowercase)\n",
    "\n",
    "def clean_data(obj):\n",
    "    if isinstance(obj,list):\n",
    "        if len(obj)==0: # for empty list\n",
    "            return \"\"\n",
    "        else:\n",
    "            return [str.lower(i.replace(\" \",'')) for i in obj]\n",
    "    else:\n",
    "        if isinstance(obj,str):\n",
    "            if len(obj)==0: # for empty string\n",
    "                return \"\"\n",
    "            else:\n",
    "                return str.lower(obj.replace(\" \",''))\n",
    "        else:\n",
    "            return \"\"                "
   ]
  },
  {
   "cell_type": "code",
   "execution_count": null,
   "metadata": {},
   "outputs": [],
   "source": [
    "columns = [\"Name\",\"Platforms\",\"Developers\",\"Publishers\",\"Genres\",\"Tags\",\"Clean_description\"]\n",
    "\n",
    "for column in columns:\n",
    "    df_copy[column] = df_copy[column].apply(clean_data)"
   ]
  },
  {
   "cell_type": "code",
   "execution_count": null,
   "metadata": {},
   "outputs": [],
   "source": [
    "df_copy.head()"
   ]
  },
  {
   "cell_type": "markdown",
   "metadata": {},
   "source": [
    "### The Soup"
   ]
  },
  {
   "cell_type": "code",
   "execution_count": null,
   "metadata": {},
   "outputs": [],
   "source": [
    "def soup_with_dis(df_obj):\n",
    "    return (df_obj[\"Name\"]) + \" \"+ \" \".join(df_obj[\"Platforms\"])+ \" \"+ \" \".join(df_obj[\"Developers\"])+ \" \"+ \" \".join(df_obj[\"Publishers\"])+\" \"+\" \".join(df_obj[\"Genres\"])+\" \"+\" \".join(df_obj[\"Tags\"])+\" \"+df_obj[\"Released\"]+\" \"+df_obj[\"Clean_description\"]\n",
    "\n",
    "df_copy[\"Soup_with_dis\"] = df_copy.apply(soup_with_dis,axis=1)"
   ]
  },
  {
   "cell_type": "code",
   "execution_count": null,
   "metadata": {},
   "outputs": [],
   "source": [
    "df_copy[\"Soup_with_dis\"][6127]"
   ]
  },
  {
   "cell_type": "markdown",
   "metadata": {},
   "source": [
    "### Passing the Soup in the model"
   ]
  },
  {
   "cell_type": "code",
   "execution_count": null,
   "metadata": {},
   "outputs": [],
   "source": [
    "# Create the model \n",
    "\n",
    "from sklearn.feature_extraction.text import CountVectorizer\n",
    "from sklearn.metrics.pairwise import cosine_similarity\n",
    "\n",
    "count_vec = CountVectorizer(stop_words=\"english\")\n",
    "\n",
    "count_matrix = count_vec.fit_transform(df_copy[\"Soup_with_dis\"])\n",
    "cos_sim_dis_soup = cosine_similarity(count_matrix)\n",
    "cos_sim_dis_soup"
   ]
  },
  {
   "cell_type": "markdown",
   "metadata": {},
   "source": [
    "## Calling the function to check the model"
   ]
  },
  {
   "cell_type": "code",
   "execution_count": null,
   "metadata": {},
   "outputs": [],
   "source": [
    "game_name(\"The Last of Us Part II\",cos_sim_dis_soup)"
   ]
  },
  {
   "cell_type": "markdown",
   "metadata": {},
   "source": [
    "# Saving the model using pickle"
   ]
  },
  {
   "cell_type": "code",
   "execution_count": null,
   "metadata": {},
   "outputs": [],
   "source": [
    "file_path = \"cos_sim_discri_soup.pkl\"\n",
    "with gzip.open(file_path,\"wb\") as f:\n",
    "    pickled = pickle.dumps(cos_sim_dis_soup)\n",
    "    optimized_pickle = pickletools.optimize(pickled)\n",
    "    f.write(optimized_pickle)"
   ]
  }
 ],
 "metadata": {
  "kernelspec": {
   "display_name": "venv",
   "language": "python",
   "name": "venv"
  },
  "language_info": {
   "codemirror_mode": {
    "name": "ipython",
    "version": 3
   },
   "file_extension": ".py",
   "mimetype": "text/x-python",
   "name": "python",
   "nbconvert_exporter": "python",
   "pygments_lexer": "ipython3",
   "version": "3.7.4"
  }
 },
 "nbformat": 4,
 "nbformat_minor": 2
}
